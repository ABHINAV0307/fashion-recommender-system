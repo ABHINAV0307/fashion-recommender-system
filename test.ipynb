{
 "cells": [
  {
   "cell_type": "code",
   "execution_count": 6,
   "metadata": {},
   "outputs": [
    {
     "name": "stdout",
     "output_type": "stream",
     "text": [
      "1/1 [==============================] - 1s 1s/step\n",
      "[[16775 16774 32375 14263 40936 23318]]\n"
     ]
    }
   ],
   "source": [
    "import pickle\n",
    "import tensorflow\n",
    "import numpy as np\n",
    "from numpy.linalg import norm\n",
    "from tensorflow.keras.preprocessing import image\n",
    "from tensorflow.keras.layers import GlobalMaxPooling2D\n",
    "from tensorflow.keras.applications.resnet50 import ResNet50,preprocess_input\n",
    "from sklearn.neighbors import NearestNeighbors\n",
    "import cv2\n",
    "\n",
    "feature_list = np.array(pickle.load(open('embeddings.pkl','rb')))\n",
    "filenames = pickle.load(open('filenames.pkl','rb'))\n",
    "\n",
    "model = ResNet50(weights='imagenet',include_top=False,input_shape=(224,224,3))\n",
    "model.trainable = False\n",
    "\n",
    "model = tensorflow.keras.Sequential([\n",
    "    model,\n",
    "    GlobalMaxPooling2D()\n",
    "])\n",
    "\n",
    "img = image.load_img('sample/shirt.jpg',target_size=(224,224))\n",
    "img_array = image.img_to_array(img)\n",
    "expanded_img_array = np.expand_dims(img_array, axis=0)\n",
    "preprocessed_img = preprocess_input(expanded_img_array)\n",
    "result = model.predict(preprocessed_img).flatten()\n",
    "normalized_result = result / norm(result)\n",
    "\n",
    "neighbors = NearestNeighbors(n_neighbors=6,algorithm='brute',metric='euclidean')\n",
    "neighbors.fit(feature_list)\n",
    "\n",
    "distances,indices = neighbors.kneighbors([normalized_result])\n",
    "\n",
    "print(indices)\n",
    "\n",
    "for file in indices[0][1:6]:\n",
    "    temp_img = cv2.imread(filenames[file])\n",
    "    cv2.imshow('output',cv2.resize(temp_img,(512,512)))\n",
    "    cv2.waitKey(0)\n",
    "\n"
   ]
  },
  {
   "cell_type": "code",
   "execution_count": null,
   "metadata": {},
   "outputs": [],
   "source": []
  }
 ],
 "metadata": {
  "kernelspec": {
   "display_name": "Python 3.7.0 ('rec1')",
   "language": "python",
   "name": "python3"
  },
  "language_info": {
   "codemirror_mode": {
    "name": "ipython",
    "version": 3
   },
   "file_extension": ".py",
   "mimetype": "text/x-python",
   "name": "python",
   "nbconvert_exporter": "python",
   "pygments_lexer": "ipython3",
   "version": "3.7.0"
  },
  "orig_nbformat": 4,
  "vscode": {
   "interpreter": {
    "hash": "295f7ad9d8b6a574265e7ef2adc192f7851806130edd42137e75a49514fdb49c"
   }
  }
 },
 "nbformat": 4,
 "nbformat_minor": 2
}
